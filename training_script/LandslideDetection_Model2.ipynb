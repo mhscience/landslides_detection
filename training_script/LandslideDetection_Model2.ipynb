{
 "cells": [
  {
   "cell_type": "code",
   "execution_count": 1,
   "metadata": {},
   "outputs": [],
   "source": [
    "#Developed by Faraz S. Tehrani\n",
    "#Deltares, 2020"
   ]
  },
  {
   "cell_type": "code",
   "execution_count": 2,
   "metadata": {
    "colab": {
     "base_uri": "https://localhost:8080/",
     "height": 34
    },
    "executionInfo": {
     "elapsed": 4945,
     "status": "ok",
     "timestamp": 1602843121620,
     "user": {
      "displayName": "F Deep",
      "photoUrl": "https://lh3.googleusercontent.com/a-/AOh14GhE7pxtLrc_Z9EpnTN8V5sDDHOROTHopeBjIsd1=s64",
      "userId": "15619417569019825141"
     },
     "user_tz": -120
    },
    "id": "PUWTXacf5PIp",
    "outputId": "0661c6e8-ce40-48dc-e3dc-f4d9cde48a10"
   },
   "outputs": [],
   "source": [
    "# pip install joblib"
   ]
  },
  {
   "cell_type": "code",
   "execution_count": 65,
   "metadata": {
    "executionInfo": {
     "elapsed": 755,
     "status": "ok",
     "timestamp": 1603883054307,
     "user": {
      "displayName": "F Deep",
      "photoUrl": "https://lh3.googleusercontent.com/a-/AOh14GhE7pxtLrc_Z9EpnTN8V5sDDHOROTHopeBjIsd1=s64",
      "userId": "15619417569019825141"
     },
     "user_tz": -60
    },
    "id": "i7Z9oH4ipUx5"
   },
   "outputs": [],
   "source": [
    "import numpy as np\n",
    "import pandas as pd\n",
    "import seaborn as sns\n",
    "import matplotlib.pyplot as plt\n",
    "import random\n",
    "import datetime\n",
    "\n",
    "from sklearn.preprocessing import StandardScaler\n",
    "from sklearn.model_selection import train_test_split\n",
    "from sklearn.model_selection import GridSearchCV\n",
    "\n",
    "from sklearn.ensemble import RandomForestClassifier\n",
    "from sklearn.metrics import accuracy_score\n",
    "from sklearn.metrics import confusion_matrix\n",
    "from sklearn.metrics import precision_recall_fscore_support\n",
    "import seaborn as sns\n",
    "\n",
    "# from sklearn.externals import joblib\n",
    "import joblib"
   ]
  },
  {
   "cell_type": "code",
   "execution_count": 66,
   "metadata": {
    "executionInfo": {
     "elapsed": 851,
     "status": "ok",
     "timestamp": 1603883059339,
     "user": {
      "displayName": "F Deep",
      "photoUrl": "https://lh3.googleusercontent.com/a-/AOh14GhE7pxtLrc_Z9EpnTN8V5sDDHOROTHopeBjIsd1=s64",
      "userId": "15619417569019825141"
     },
     "user_tz": -60
    },
    "id": "OwE8qwH1QDot"
   },
   "outputs": [],
   "source": [
    "def evaluateTrainedModel(model, X_eval, y_eval):\n",
    "  predictions = model.predict(X_eval)\n",
    "  accuracy = accuracy_score(y_eval, predictions)\n",
    "  other_metrics = precision_recall_fscore_support(y_eval, predictions)\n",
    "  precision = other_metrics[0][0]\n",
    "  recall = other_metrics[1][0]\n",
    "  f1_score= other_metrics[2][0]\n",
    "  confusion = pd.DataFrame(confusion_matrix(y_eval, predictions))\n",
    "  print('Confusion matrix = \\n', confusion)\n",
    "  return accuracy, precision, recall, f1_score\n",
    "\n",
    "\n",
    "def saveMLModel(model, path, fileName):  \n",
    "  joblib.dump(model, path+fileName) #.sav extension\n",
    "\n",
    "def loadMLModel(path, modelName):\n",
    "  return joblib.load(path+modelName)"
   ]
  },
  {
   "cell_type": "code",
   "execution_count": 67,
   "metadata": {
    "colab": {
     "base_uri": "https://localhost:8080/",
     "height": 34
    },
    "executionInfo": {
     "elapsed": 722,
     "status": "ok",
     "timestamp": 1603883064255,
     "user": {
      "displayName": "F Deep",
      "photoUrl": "https://lh3.googleusercontent.com/a-/AOh14GhE7pxtLrc_Z9EpnTN8V5sDDHOROTHopeBjIsd1=s64",
      "userId": "15619417569019825141"
     },
     "user_tz": -60
    },
    "id": "Iy96LmRMpk3p",
    "outputId": "bdfea7c8-dd1e-4620-bb22-299e97495b89"
   },
   "outputs": [
    {
     "name": "stdout",
     "output_type": "stream",
     "text": [
      "Drive already mounted at /content/drive; to attempt to forcibly remount, call drive.mount(\"/content/drive\", force_remount=True).\n"
     ]
    }
   ],
   "source": [
    "#read files from google drive\n",
    "from google.colab import drive\n",
    "drive.mount(\"/content/drive\")"
   ]
  },
  {
   "cell_type": "code",
   "execution_count": 68,
   "metadata": {
    "executionInfo": {
     "elapsed": 780,
     "status": "ok",
     "timestamp": 1603883067355,
     "user": {
      "displayName": "F Deep",
      "photoUrl": "https://lh3.googleusercontent.com/a-/AOh14GhE7pxtLrc_Z9EpnTN8V5sDDHOROTHopeBjIsd1=s64",
      "userId": "15619417569019825141"
     },
     "user_tz": -60
    },
    "id": "6STYZzKqpo9L"
   },
   "outputs": [],
   "source": [
    "pathToFolder = \"/content/drive/My Drive/LandslideDetection/\"\n",
    "df = pd.read_csv(pathToFolder+'df4ML.csv')"
   ]
  },
  {
   "cell_type": "code",
   "execution_count": 69,
   "metadata": {
    "colab": {
     "base_uri": "https://localhost:8080/",
     "height": 215
    },
    "executionInfo": {
     "elapsed": 864,
     "status": "ok",
     "timestamp": 1603883069865,
     "user": {
      "displayName": "F Deep",
      "photoUrl": "https://lh3.googleusercontent.com/a-/AOh14GhE7pxtLrc_Z9EpnTN8V5sDDHOROTHopeBjIsd1=s64",
      "userId": "15619417569019825141"
     },
     "user_tz": -60
    },
    "id": "YE8xDhPFp46F",
    "outputId": "8f09bfc5-c507-431d-953a-416e1cef46b0"
   },
   "outputs": [
    {
     "data": {
      "text/html": [
       "<div>\n",
       "<style scoped>\n",
       "    .dataframe tbody tr th:only-of-type {\n",
       "        vertical-align: middle;\n",
       "    }\n",
       "\n",
       "    .dataframe tbody tr th {\n",
       "        vertical-align: top;\n",
       "    }\n",
       "\n",
       "    .dataframe thead th {\n",
       "        text-align: right;\n",
       "    }\n",
       "</style>\n",
       "<table border=\"1\" class=\"dataframe\">\n",
       "  <thead>\n",
       "    <tr style=\"text-align: right;\">\n",
       "      <th></th>\n",
       "      <th>segment_id</th>\n",
       "      <th>area_m2</th>\n",
       "      <th>east</th>\n",
       "      <th>north</th>\n",
       "      <th>b4</th>\n",
       "      <th>b3</th>\n",
       "      <th>b2</th>\n",
       "      <th>b8</th>\n",
       "      <th>ndvi</th>\n",
       "      <th>ndvi_change</th>\n",
       "      <th>ratio_rg_change</th>\n",
       "      <th>brightness</th>\n",
       "      <th>brightness_change</th>\n",
       "      <th>gndvi</th>\n",
       "      <th>slope_max</th>\n",
       "      <th>slope_mean</th>\n",
       "      <th>nd_std</th>\n",
       "      <th>height_mean</th>\n",
       "      <th>height_min</th>\n",
       "      <th>height_max</th>\n",
       "      <th>Type</th>\n",
       "    </tr>\n",
       "  </thead>\n",
       "  <tbody>\n",
       "    <tr>\n",
       "      <th>0</th>\n",
       "      <td>L0_S1</td>\n",
       "      <td>17900.0</td>\n",
       "      <td>312661.201117</td>\n",
       "      <td>131768.016760</td>\n",
       "      <td>546.782123</td>\n",
       "      <td>897.173184</td>\n",
       "      <td>944.201117</td>\n",
       "      <td>3058.553073</td>\n",
       "      <td>0.693484</td>\n",
       "      <td>0.075303</td>\n",
       "      <td>0.534168</td>\n",
       "      <td>0.796052</td>\n",
       "      <td>-0.143795</td>\n",
       "      <td>0.542556</td>\n",
       "      <td>43.198013</td>\n",
       "      <td>27.588178</td>\n",
       "      <td>0.051713</td>\n",
       "      <td>1266.162011</td>\n",
       "      <td>1191.0</td>\n",
       "      <td>1329.0</td>\n",
       "      <td>0.0</td>\n",
       "    </tr>\n",
       "    <tr>\n",
       "      <th>1</th>\n",
       "      <td>L0_S12</td>\n",
       "      <td>54800.0</td>\n",
       "      <td>314277.390511</td>\n",
       "      <td>131602.755474</td>\n",
       "      <td>590.445255</td>\n",
       "      <td>930.883212</td>\n",
       "      <td>959.585766</td>\n",
       "      <td>3077.003650</td>\n",
       "      <td>0.677110</td>\n",
       "      <td>-0.128013</td>\n",
       "      <td>0.270799</td>\n",
       "      <td>0.826971</td>\n",
       "      <td>-0.005416</td>\n",
       "      <td>0.534582</td>\n",
       "      <td>26.351656</td>\n",
       "      <td>13.395944</td>\n",
       "      <td>0.026207</td>\n",
       "      <td>1038.985401</td>\n",
       "      <td>1004.0</td>\n",
       "      <td>1078.0</td>\n",
       "      <td>0.0</td>\n",
       "    </tr>\n",
       "    <tr>\n",
       "      <th>2</th>\n",
       "      <td>L0_S210</td>\n",
       "      <td>16400.0</td>\n",
       "      <td>315188.597561</td>\n",
       "      <td>131301.219512</td>\n",
       "      <td>806.646341</td>\n",
       "      <td>1082.579268</td>\n",
       "      <td>1086.628049</td>\n",
       "      <td>2972.048780</td>\n",
       "      <td>0.569681</td>\n",
       "      <td>0.030250</td>\n",
       "      <td>0.510916</td>\n",
       "      <td>0.991951</td>\n",
       "      <td>-0.205500</td>\n",
       "      <td>0.461150</td>\n",
       "      <td>36.183422</td>\n",
       "      <td>14.654994</td>\n",
       "      <td>0.118956</td>\n",
       "      <td>807.823171</td>\n",
       "      <td>791.0</td>\n",
       "      <td>873.0</td>\n",
       "      <td>0.0</td>\n",
       "    </tr>\n",
       "    <tr>\n",
       "      <th>3</th>\n",
       "      <td>L0_S223</td>\n",
       "      <td>8200.0</td>\n",
       "      <td>315548.414634</td>\n",
       "      <td>131315.731707</td>\n",
       "      <td>1116.804878</td>\n",
       "      <td>1219.817073</td>\n",
       "      <td>1228.756098</td>\n",
       "      <td>2597.500000</td>\n",
       "      <td>0.399993</td>\n",
       "      <td>-0.056752</td>\n",
       "      <td>0.414258</td>\n",
       "      <td>1.188459</td>\n",
       "      <td>-0.096933</td>\n",
       "      <td>0.357630</td>\n",
       "      <td>10.729084</td>\n",
       "      <td>6.369848</td>\n",
       "      <td>0.116028</td>\n",
       "      <td>748.000000</td>\n",
       "      <td>739.0</td>\n",
       "      <td>754.0</td>\n",
       "      <td>0.0</td>\n",
       "    </tr>\n",
       "    <tr>\n",
       "      <th>4</th>\n",
       "      <td>L0_S308</td>\n",
       "      <td>400.0</td>\n",
       "      <td>314450.000000</td>\n",
       "      <td>131170.000000</td>\n",
       "      <td>846.750000</td>\n",
       "      <td>1122.000000</td>\n",
       "      <td>1082.000000</td>\n",
       "      <td>3610.000000</td>\n",
       "      <td>0.620022</td>\n",
       "      <td>0.137240</td>\n",
       "      <td>0.638781</td>\n",
       "      <td>1.016917</td>\n",
       "      <td>-0.292388</td>\n",
       "      <td>0.525468</td>\n",
       "      <td>31.465822</td>\n",
       "      <td>31.465822</td>\n",
       "      <td>0.044013</td>\n",
       "      <td>1017.000000</td>\n",
       "      <td>1017.0</td>\n",
       "      <td>1017.0</td>\n",
       "      <td>0.0</td>\n",
       "    </tr>\n",
       "  </tbody>\n",
       "</table>\n",
       "</div>"
      ],
      "text/plain": [
       "  segment_id  area_m2           east  ...  height_min  height_max  Type\n",
       "0      L0_S1  17900.0  312661.201117  ...      1191.0      1329.0   0.0\n",
       "1     L0_S12  54800.0  314277.390511  ...      1004.0      1078.0   0.0\n",
       "2    L0_S210  16400.0  315188.597561  ...       791.0       873.0   0.0\n",
       "3    L0_S223   8200.0  315548.414634  ...       739.0       754.0   0.0\n",
       "4    L0_S308    400.0  314450.000000  ...      1017.0      1017.0   0.0\n",
       "\n",
       "[5 rows x 21 columns]"
      ]
     },
     "execution_count": 69,
     "metadata": {
      "tags": []
     },
     "output_type": "execute_result"
    }
   ],
   "source": [
    "df.head()"
   ]
  },
  {
   "cell_type": "code",
   "execution_count": 70,
   "metadata": {
    "executionInfo": {
     "elapsed": 877,
     "status": "ok",
     "timestamp": 1603883074284,
     "user": {
      "displayName": "F Deep",
      "photoUrl": "https://lh3.googleusercontent.com/a-/AOh14GhE7pxtLrc_Z9EpnTN8V5sDDHOROTHopeBjIsd1=s64",
      "userId": "15619417569019825141"
     },
     "user_tz": -60
    },
    "id": "ecDzt5btfBQp"
   },
   "outputs": [],
   "source": [
    "df['Landslide_Region']=df['segment_id'].apply(lambda x: x.split('_')[0])"
   ]
  },
  {
   "cell_type": "code",
   "execution_count": 71,
   "metadata": {
    "colab": {
     "base_uri": "https://localhost:8080/",
     "height": 101
    },
    "executionInfo": {
     "elapsed": 602,
     "status": "ok",
     "timestamp": 1603883075549,
     "user": {
      "displayName": "F Deep",
      "photoUrl": "https://lh3.googleusercontent.com/a-/AOh14GhE7pxtLrc_Z9EpnTN8V5sDDHOROTHopeBjIsd1=s64",
      "userId": "15619417569019825141"
     },
     "user_tz": -60
    },
    "id": "gIMMcT-Ap93U",
    "outputId": "a01e2b40-820b-4a9f-90b7-b52f2a4badf4"
   },
   "outputs": [
    {
     "data": {
      "text/plain": [
       "Index(['segment_id', 'area_m2', 'east', 'north', 'b4', 'b3', 'b2', 'b8',\n",
       "       'ndvi', 'ndvi_change', 'ratio_rg_change', 'brightness',\n",
       "       'brightness_change', 'gndvi', 'slope_max', 'slope_mean', 'nd_std',\n",
       "       'height_mean', 'height_min', 'height_max', 'Type', 'Landslide_Region'],\n",
       "      dtype='object')"
      ]
     },
     "execution_count": 71,
     "metadata": {
      "tags": []
     },
     "output_type": "execute_result"
    }
   ],
   "source": [
    "df.columns"
   ]
  },
  {
   "cell_type": "code",
   "execution_count": 72,
   "metadata": {
    "executionInfo": {
     "elapsed": 740,
     "status": "ok",
     "timestamp": 1603883082348,
     "user": {
      "displayName": "F Deep",
      "photoUrl": "https://lh3.googleusercontent.com/a-/AOh14GhE7pxtLrc_Z9EpnTN8V5sDDHOROTHopeBjIsd1=s64",
      "userId": "15619417569019825141"
     },
     "user_tz": -60
    },
    "id": "NOkhWQ2_JGKt"
   },
   "outputs": [],
   "source": [
    "#rename columns\n",
    "df = df.rename(columns={'ndvi':'NDVI', 'ndvi_change':'VDI', 'ratio_rg_change':'RGD', 'brightness':'BR',\n",
    "       'brightness_change':'BRD', 'gndvi':'GNDVI', 'nd_std':'NDVI_std','b4':'B4', 'b3':'B3', 'b2':'B2', 'b8':'B8'})\n",
    "df = df[['segment_id', 'Landslide_Region','area_m2', 'east', 'north',\n",
    "         'B2','B3','B4','B8','NDVI','NDVI_std','GNDVI','VDI','BR', 'BRD',\n",
    "         'height_mean', 'height_min', 'height_max','slope_max', 'slope_mean',\n",
    "         'Type']]"
   ]
  },
  {
   "cell_type": "code",
   "execution_count": 73,
   "metadata": {
    "executionInfo": {
     "elapsed": 791,
     "status": "ok",
     "timestamp": 1603883084728,
     "user": {
      "displayName": "F Deep",
      "photoUrl": "https://lh3.googleusercontent.com/a-/AOh14GhE7pxtLrc_Z9EpnTN8V5sDDHOROTHopeBjIsd1=s64",
      "userId": "15619417569019825141"
     },
     "user_tz": -60
    },
    "id": "8FMf0JZpJqVl"
   },
   "outputs": [],
   "source": [
    "df_train = df[(df['Landslide_Region']!='L0') & (df['Landslide_Region']!='L1') & (df['Landslide_Region']!='L2') & (df['Landslide_Region']!='L15')]\n",
    "df_test = df[(df['Landslide_Region']=='L0') | (df['Landslide_Region']=='L1') | (df['Landslide_Region']=='L2') | (df['Landslide_Region']=='L15')]"
   ]
  },
  {
   "cell_type": "code",
   "execution_count": 35,
   "metadata": {
    "colab": {
     "base_uri": "https://localhost:8080/",
     "height": 34
    },
    "executionInfo": {
     "elapsed": 450,
     "status": "ok",
     "timestamp": 1603878897724,
     "user": {
      "displayName": "F Deep",
      "photoUrl": "https://lh3.googleusercontent.com/a-/AOh14GhE7pxtLrc_Z9EpnTN8V5sDDHOROTHopeBjIsd1=s64",
      "userId": "15619417569019825141"
     },
     "user_tz": -60
    },
    "id": "UzyHKxz5cbbs",
    "outputId": "2224189d-46e5-4a81-f2f1-57b8868c41ef"
   },
   "outputs": [
    {
     "data": {
      "text/plain": [
       "343"
      ]
     },
     "execution_count": 35,
     "metadata": {
      "tags": []
     },
     "output_type": "execute_result"
    }
   ],
   "source": [
    "len(df_train)"
   ]
  },
  {
   "cell_type": "code",
   "execution_count": 36,
   "metadata": {
    "colab": {
     "base_uri": "https://localhost:8080/",
     "height": 34
    },
    "executionInfo": {
     "elapsed": 852,
     "status": "ok",
     "timestamp": 1603878899140,
     "user": {
      "displayName": "F Deep",
      "photoUrl": "https://lh3.googleusercontent.com/a-/AOh14GhE7pxtLrc_Z9EpnTN8V5sDDHOROTHopeBjIsd1=s64",
      "userId": "15619417569019825141"
     },
     "user_tz": -60
    },
    "id": "eKSTX10scd3d",
    "outputId": "24d15643-9034-490d-bc20-e9091a4906e1"
   },
   "outputs": [
    {
     "data": {
      "text/plain": [
       "122"
      ]
     },
     "execution_count": 36,
     "metadata": {
      "tags": []
     },
     "output_type": "execute_result"
    }
   ],
   "source": [
    "len(df_test)"
   ]
  },
  {
   "cell_type": "code",
   "execution_count": 74,
   "metadata": {
    "executionInfo": {
     "elapsed": 766,
     "status": "ok",
     "timestamp": 1603883088638,
     "user": {
      "displayName": "F Deep",
      "photoUrl": "https://lh3.googleusercontent.com/a-/AOh14GhE7pxtLrc_Z9EpnTN8V5sDDHOROTHopeBjIsd1=s64",
      "userId": "15619417569019825141"
     },
     "user_tz": -60
    },
    "id": "4cbFMNOWyjk7"
   },
   "outputs": [],
   "source": [
    "feat2=['B8', 'NDVI', 'NDVI_std', 'VDI', 'BR', 'BRD', 'height_mean', 'slope_max']"
   ]
  },
  {
   "cell_type": "markdown",
   "metadata": {
    "id": "vrmiILLk0IKh"
   },
   "source": [
    "## **Model based on feat2**"
   ]
  },
  {
   "cell_type": "markdown",
   "metadata": {
    "id": "YUAQO_SDpVvo"
   },
   "source": [
    "**Split**"
   ]
  },
  {
   "cell_type": "code",
   "execution_count": 53,
   "metadata": {
    "executionInfo": {
     "elapsed": 1038,
     "status": "ok",
     "timestamp": 1603879496492,
     "user": {
      "displayName": "F Deep",
      "photoUrl": "https://lh3.googleusercontent.com/a-/AOh14GhE7pxtLrc_Z9EpnTN8V5sDDHOROTHopeBjIsd1=s64",
      "userId": "15619417569019825141"
     },
     "user_tz": -60
    },
    "id": "FtcqTGZXqUL-"
   },
   "outputs": [],
   "source": [
    "# Split and Scale the data\n",
    "\n",
    "X_train = df_train[feat2]\n",
    "y_train = df_train['Type']\n",
    "\n",
    "X_test = df_test[feat2]\n",
    "y_test = df_test['Type']\n",
    "\n",
    "scaler2 = StandardScaler()\n",
    "scaler2.fit(X_train)\n",
    "X_train = scaler2.transform(X_train)\n",
    "X_test = scaler2.transform(X_test)\n",
    "y_train = y_train\n",
    "y_test = y_test\n",
    "\n",
    "random_state = 110"
   ]
  },
  {
   "cell_type": "code",
   "execution_count": 54,
   "metadata": {
    "colab": {
     "base_uri": "https://localhost:8080/",
     "height": 34
    },
    "executionInfo": {
     "elapsed": 766,
     "status": "ok",
     "timestamp": 1603879502401,
     "user": {
      "displayName": "F Deep",
      "photoUrl": "https://lh3.googleusercontent.com/a-/AOh14GhE7pxtLrc_Z9EpnTN8V5sDDHOROTHopeBjIsd1=s64",
      "userId": "15619417569019825141"
     },
     "user_tz": -60
    },
    "id": "Yqw4_NLSEQNv",
    "outputId": "9371080d-dc12-42c0-ecba-0aca9f789beb"
   },
   "outputs": [
    {
     "data": {
      "text/plain": [
       "343"
      ]
     },
     "execution_count": 54,
     "metadata": {
      "tags": []
     },
     "output_type": "execute_result"
    }
   ],
   "source": [
    "len(df_train)"
   ]
  },
  {
   "cell_type": "code",
   "execution_count": 55,
   "metadata": {
    "executionInfo": {
     "elapsed": 737,
     "status": "ok",
     "timestamp": 1603879504513,
     "user": {
      "displayName": "F Deep",
      "photoUrl": "https://lh3.googleusercontent.com/a-/AOh14GhE7pxtLrc_Z9EpnTN8V5sDDHOROTHopeBjIsd1=s64",
      "userId": "15619417569019825141"
     },
     "user_tz": -60
    },
    "id": "mTcD8nUdtl5b"
   },
   "outputs": [],
   "source": [
    "#Random forest classifier\n",
    "# define the baseline model\n",
    "baselineModel = RandomForestClassifier(random_state=random_state)        "
   ]
  },
  {
   "cell_type": "markdown",
   "metadata": {
    "id": "satHWwgnuRVC"
   },
   "source": [
    "**Hyper-parameters tunning**"
   ]
  },
  {
   "cell_type": "code",
   "execution_count": 56,
   "metadata": {
    "colab": {
     "base_uri": "https://localhost:8080/",
     "height": 202
    },
    "executionInfo": {
     "elapsed": 932613,
     "status": "ok",
     "timestamp": 1603880440759,
     "user": {
      "displayName": "F Deep",
      "photoUrl": "https://lh3.googleusercontent.com/a-/AOh14GhE7pxtLrc_Z9EpnTN8V5sDDHOROTHopeBjIsd1=s64",
      "userId": "15619417569019825141"
     },
     "user_tz": -60
    },
    "id": "0GOSUOhRtwc5",
    "outputId": "751a098b-6cf9-403d-95c7-0bd6082b6dae"
   },
   "outputs": [
    {
     "name": "stdout",
     "output_type": "stream",
     "text": [
      "Fitting 5 folds for each of 450 candidates, totalling 2250 fits\n"
     ]
    },
    {
     "name": "stderr",
     "output_type": "stream",
     "text": [
      "[Parallel(n_jobs=4)]: Using backend LokyBackend with 4 concurrent workers.\n",
      "[Parallel(n_jobs=4)]: Done  42 tasks      | elapsed:   15.3s\n",
      "[Parallel(n_jobs=4)]: Done 192 tasks      | elapsed:  1.3min\n",
      "[Parallel(n_jobs=4)]: Done 442 tasks      | elapsed:  3.0min\n",
      "[Parallel(n_jobs=4)]: Done 792 tasks      | elapsed:  5.4min\n",
      "[Parallel(n_jobs=4)]: Done 1242 tasks      | elapsed:  8.5min\n",
      "[Parallel(n_jobs=4)]: Done 1792 tasks      | elapsed: 12.3min\n"
     ]
    },
    {
     "name": "stdout",
     "output_type": "stream",
     "text": [
      "best model parameters: \n",
      " {'bootstrap': True, 'max_depth': 10, 'max_features': 2, 'min_samples_leaf': 2, 'min_samples_split': 10, 'n_estimators': 10}\n"
     ]
    },
    {
     "name": "stderr",
     "output_type": "stream",
     "text": [
      "[Parallel(n_jobs=4)]: Done 2250 out of 2250 | elapsed: 15.5min finished\n"
     ]
    }
   ],
   "source": [
    "# Hyper-parameters\n",
    "#RF\n",
    "model_parameters_RF = {\n",
    "    'bootstrap': [True],\n",
    "    'max_depth': [10, 20, 50, 100, 500],\n",
    "    'max_features': [2],\n",
    "    'min_samples_leaf': [1, 2, 3, 4, 5],\n",
    "    'min_samples_split': [2, 5, 10],\n",
    "    'n_estimators': [10, 50, 100, 200, 500, 1000]\n",
    "}\n",
    "#Cross-Validation\n",
    "# Instantiate the grid search model\n",
    "model_parameters=model_parameters_RF\n",
    "grid_search = GridSearchCV(estimator=baselineModel, param_grid=model_parameters,\n",
    "                           cv=5, n_jobs=4, verbose=1)\n",
    "\n",
    "# Fit the grid search to the data\n",
    "grid_search.fit(X_train, y_train)\n",
    "print ('best model parameters: \\n', grid_search.best_params_)"
   ]
  },
  {
   "cell_type": "markdown",
   "metadata": {
    "id": "UfbVpwD2wVAC"
   },
   "source": [
    "**Evaulate the model**"
   ]
  },
  {
   "cell_type": "code",
   "execution_count": 57,
   "metadata": {
    "colab": {
     "base_uri": "https://localhost:8080/",
     "height": 386
    },
    "executionInfo": {
     "elapsed": 771,
     "status": "ok",
     "timestamp": 1603880740159,
     "user": {
      "displayName": "F Deep",
      "photoUrl": "https://lh3.googleusercontent.com/a-/AOh14GhE7pxtLrc_Z9EpnTN8V5sDDHOROTHopeBjIsd1=s64",
      "userId": "15619417569019825141"
     },
     "user_tz": -60
    },
    "id": "BxB91dxAtH8K",
    "outputId": "b8452fb1-484c-4cda-c298-154cd250be45"
   },
   "outputs": [
    {
     "name": "stdout",
     "output_type": "stream",
     "text": [
      "\n",
      "**Train set**\n",
      "Confusion matrix = \n",
      "      0    1\n",
      "0  204    0\n",
      "1    4  135\n",
      "best model on train set: \n",
      " accuracy =   0.99,\n",
      " precision =   0.98,\n",
      " recall =   1.00,\n",
      " f1_score =   0.99 \n",
      "\n",
      "**Test set**\n",
      "Confusion matrix = \n",
      "     0   1\n",
      "0  66  10\n",
      "1   7  39\n",
      "best model on test set: \n",
      " accuracy =   0.86,\n",
      " precision =   0.90,\n",
      " recall =   0.87,\n",
      " f1_score =   0.89 \n"
     ]
    }
   ],
   "source": [
    "#Evaluate the best model\n",
    "best_model2 = grid_search.best_estimator_\n",
    "print ('\\n**Train set**')\n",
    "accuracy, precision, recall, f1_score = evaluateTrainedModel(best_model2, X_train, y_train)\n",
    "print('best model on train set: \\n accuracy = {:6.2f},\\n precision = {:6.2f},\\n recall = {:6.2f},\\n f1_score = {:6.2f} '.format(accuracy, precision, recall, f1_score ))\n",
    "\n",
    "print ('\\n**Test set**')\n",
    "accuracy, precision, recall, f1_score = evaluateTrainedModel(best_model2, X_test, y_test)\n",
    "print('best model on test set: \\n accuracy = {:6.2f},\\n precision = {:6.2f},\\n recall = {:6.2f},\\n f1_score = {:6.2f} '.format(accuracy, precision, recall, f1_score ))       "
   ]
  },
  {
   "cell_type": "markdown",
   "metadata": {
    "id": "kGxSdBH-1ntF"
   },
   "source": [
    "**feature importance**"
   ]
  },
  {
   "cell_type": "code",
   "execution_count": 59,
   "metadata": {
    "colab": {
     "base_uri": "https://localhost:8080/",
     "height": 297
    },
    "executionInfo": {
     "elapsed": 2244,
     "status": "ok",
     "timestamp": 1603880810214,
     "user": {
      "displayName": "F Deep",
      "photoUrl": "https://lh3.googleusercontent.com/a-/AOh14GhE7pxtLrc_Z9EpnTN8V5sDDHOROTHopeBjIsd1=s64",
      "userId": "15619417569019825141"
     },
     "user_tz": -60
    },
    "id": "Q0dxpRZUwZ92",
    "outputId": "94321b71-8d8d-450a-d810-8db2af95d3d0"
   },
   "outputs": [
    {
     "data": {
      "image/png": "[encoded data removed]",
      "text/plain": [
       "<Figure size 432x288 with 1 Axes>"
      ]
     },
     "metadata": {
      "needs_background": "light",
      "tags": []
     },
     "output_type": "display_data"
    }
   ],
   "source": [
    "feats = {} # a dict to hold feature_name: feature_importance\n",
    "\n",
    "for feature, importance in zip(df_train[feat2].columns, best_model2.feature_importances_ ):\n",
    "    feats[feature] = importance #add the name/value pair \n",
    "    \n",
    "importances = pd.DataFrame.from_dict(feats, orient='index').rename(columns={0: 'feature importance'})\n",
    "\n",
    "importances.sort_values(by='feature importance').plot(kind='bar',rot=90, color='black', legend= False, fontsize= 12,align=\"center\")\n",
    "\n",
    "plt.xlabel('Feature',size=14)\n",
    "plt.ylabel('Feature Importance (-)',size=14)\n",
    "plt.ylim((0,0.4))\n",
    "plt.gca().yaxis.grid(True, which='major') \n",
    "plt.tight_layout()\n",
    "plt.savefig(pathToFolder+'featImportance_model2-2.png',dpi=600)"
   ]
  },
  {
   "cell_type": "markdown",
   "metadata": {
    "id": "WjnsUXI46ghX"
   },
   "source": [
    "**save model**"
   ]
  },
  {
   "cell_type": "code",
   "execution_count": 60,
   "metadata": {
    "executionInfo": {
     "elapsed": 750,
     "status": "ok",
     "timestamp": 1603880836820,
     "user": {
      "displayName": "F Deep",
      "photoUrl": "https://lh3.googleusercontent.com/a-/AOh14GhE7pxtLrc_Z9EpnTN8V5sDDHOROTHopeBjIsd1=s64",
      "userId": "15619417569019825141"
     },
     "user_tz": -60
    },
    "id": "W5gsG5OK1fib"
   },
   "outputs": [],
   "source": [
    "model_name = 'RF_model2-2.sav'\n",
    "saveMLModel(best_model2,pathToFolder,model_name)"
   ]
  },
  {
   "cell_type": "markdown",
   "metadata": {
    "id": "CPfUSvDaKkEj"
   },
   "source": [
    "**load model**"
   ]
  },
  {
   "cell_type": "code",
   "execution_count": 61,
   "metadata": {
    "executionInfo": {
     "elapsed": 734,
     "status": "ok",
     "timestamp": 1603880849631,
     "user": {
      "displayName": "F Deep",
      "photoUrl": "https://lh3.googleusercontent.com/a-/AOh14GhE7pxtLrc_Z9EpnTN8V5sDDHOROTHopeBjIsd1=s64",
      "userId": "15619417569019825141"
     },
     "user_tz": -60
    },
    "id": "v7XlEltcw6j5"
   },
   "outputs": [],
   "source": [
    "model_name = 'RF_model2-2.sav'\n",
    "model = loadMLModel(pathToFolder,model_name)"
   ]
  },
  {
   "cell_type": "code",
   "execution_count": 62,
   "metadata": {
    "colab": {
     "base_uri": "https://localhost:8080/",
     "height": 168
    },
    "executionInfo": {
     "elapsed": 899,
     "status": "ok",
     "timestamp": 1603880866950,
     "user": {
      "displayName": "F Deep",
      "photoUrl": "https://lh3.googleusercontent.com/a-/AOh14GhE7pxtLrc_Z9EpnTN8V5sDDHOROTHopeBjIsd1=s64",
      "userId": "15619417569019825141"
     },
     "user_tz": -60
    },
    "id": "aRnDhryR6Wk9",
    "outputId": "557b0139-3b36-4a68-a24e-aa765758b145"
   },
   "outputs": [
    {
     "name": "stdout",
     "output_type": "stream",
     "text": [
      "Confusion matrix = \n",
      "     0   1\n",
      "0  66  10\n",
      "1   7  39\n",
      "model 1-2 on test set: \n",
      " accuracy =   0.86,\n",
      " precision =   0.90,\n",
      " recall =   0.87,\n",
      " f1_score =   0.89 \n"
     ]
    }
   ],
   "source": [
    "#check\n",
    "accuracy, precision, recall, f1_score = evaluateTrainedModel(model, X_test, y_test)\n",
    "print('model 1-2 on test set: \\n accuracy = {:6.2f},\\n precision = {:6.2f},\\n recall = {:6.2f},\\n f1_score = {:6.2f} '.format(accuracy, precision, recall, f1_score )) "
   ]
  }
 ],
 "metadata": {
  "colab": {
   "authorship_tag": "ABX9TyOnK3tsk6dGd9Xhi1/21E4R",
   "collapsed_sections": [],
   "name": "LandslideDetection_Model2.ipynb",
   "provenance": [
    {
     "file_id": "1LpgFRSztt1d-lFlW1MOcfskTYrzJaNif",
     "timestamp": 1603873717998
    },
    {
     "file_id": "1LHylKCXYVSXvECDc1VFMdRirWX1AcdRJ",
     "timestamp": 1603381947484
    },
    {
     "file_id": "1xpDL8H5UPmsCpMi1HYIuQXo6-6gxEcTl",
     "timestamp": 1603104503917
    }
   ]
  },
  "kernelspec": {
   "display_name": "Python 3",
   "language": "python",
   "name": "python3"
  },
  "language_info": {
   "codemirror_mode": {
    "name": "ipython",
    "version": 3
   },
   "file_extension": ".py",
   "mimetype": "text/x-python",
   "name": "python",
   "nbconvert_exporter": "python",
   "pygments_lexer": "ipython3",
   "version": "3.7.4"
  }
 },
 "nbformat": 4,
 "nbformat_minor": 1
}
